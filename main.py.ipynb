{
  "cells": [
    {
      "cell_type": "code",
      "execution_count": null,
      "metadata": {
        "id": "ybeYgPeiQJuZ"
      },
      "outputs": [],
      "source": [
        "# working 3 / 12\n",
        "\n",
        "\n",
        "just_len = 60\n",
        "\n",
        "import re\n",
        "import collections\n",
        "\n",
        "NUM     = r'(?P<NUM>\\d+)'\n",
        "PLUS    = r'(?P<PLUS>\\+)'\n",
        "MINUS   = r'(?P<MINUS>-)'\n",
        "LPAREN  = r'(?P<LPAREN>\\()'\n",
        "RPAREN  = r'(?P<RPAREN>\\))'\n",
        "WS      = r'(?P<WS>\\s+)'\n",
        "\n",
        "master_pattern = re.compile('|'.join((NUM, PLUS, MINUS, LPAREN, RPAREN, WS)))\n",
        "Token = collections.namedtuple('Token', ['type', 'value'])\n",
        "\n",
        "def generate_tokens(pattern, text):\n",
        "    scanner = pattern.scanner(text)\n",
        "    for m in iter(scanner.match, None):\n",
        "        token = Token(m.lastgroup, m.group())\n",
        "\n",
        "        if token.type != 'WS':\n",
        "            yield token\n",
        "\n",
        "class Node:\n",
        "    def __init__(self, type, value=None):\n",
        "        self.type = type\n",
        "        self.value = value\n",
        "        self.left = None\n",
        "        self.right = None\n",
        "\n",
        "class ExpressionEvaluator:\n",
        "\n",
        "    def parse(self, text):\n",
        "        self.tokens = generate_tokens(master_pattern, text)\n",
        "        self.current_token = None\n",
        "        self.next_token = None\n",
        "        self._advance()\n",
        "\n",
        "        # expr is the top level grammar. So we invoke that first.\n",
        "        # it will invoke other functions to consume tokens according to grammar rules.\n",
        "        return self.expr()\n",
        "\n",
        "    def _advance(self):\n",
        "        self.current_token, self.next_token = self.next_token, next(self.tokens, None)\n",
        "\n",
        "    def _accept(self, token_type):\n",
        "        # if there is a next token and the token type matches\n",
        "        if self.next_token and self.next_token.type == token_type:\n",
        "            self._advance()\n",
        "            return True\n",
        "        else:\n",
        "            return False\n",
        "\n",
        "    def _expect(self, token_type):\n",
        "        if not self._accept(token_type):\n",
        "            raise SyntaxError('Expected ' + token_type)\n",
        "\n",
        "    def expr(self):\n",
        "        expr_value = self.factor() # left of an operation\n",
        "        while self._accept('PLUS') or self._accept('MINUS'):\n",
        "            op = self.current_token.type\n",
        "\n",
        "            right = self.factor() # right of operator\n",
        "            op_node = Node(op)\n",
        "            op_node.left = expr_value\n",
        "            op_node.right = right\n",
        "            expr_value = op_node\n",
        "\n",
        "        return expr_value\n",
        "\n",
        "  # Term is equivalent to a factor\n",
        "\n",
        "    def factor(self):\n",
        "        if self._accept('NUM'):\n",
        "            return Node('NUM', self.current_token.value)\n",
        "        elif self._accept('LPAREN'): # if it s \"(\" it expects an expression\n",
        "            expr_value = self.expr()\n",
        "            self._expect('RPAREN')\n",
        "            return expr_value\n",
        "        else:\n",
        "            raise SyntaxError('Expect NUMBER or LPAREN')\n",
        "\n",
        "\n"
      ]
    },
    {
      "cell_type": "markdown",
      "metadata": {
        "id": "-0WZPQxKDjWb"
      },
      "source": [
        "expr ::= expr + factor | expr - factor | factor\n",
        "\n",
        "\n",
        "\n",
        "factor::= (expr) | NUM"
      ]
    },
    {
      "cell_type": "code",
      "execution_count": null,
      "metadata": {
        "id": "-l0u1Sp2R-pt"
      },
      "outputs": [],
      "source": [
        "# working 3 / 12\n",
        "\n",
        "# helper function\n",
        "# this is working print tree\n",
        "def print_tree(root, type=\"type\", left=\"left\", right=\"right\"):\n",
        "    def display(root, type=type, left=left, right=right):\n",
        "        if getattr(root, right) is None and getattr(root, left) is None:\n",
        "            label = getattr(root, type)\n",
        "            value = getattr(root, 'value', None)\n",
        "            if value is not None:\n",
        "                line = f'{label} {value}'\n",
        "            else:\n",
        "                line = label\n",
        "            width = len(line)\n",
        "            height = 1\n",
        "            middle = width // 2\n",
        "            return [line], width, height, middle\n",
        "\n",
        "        if getattr(root, right) is None:\n",
        "            lines, n, p, x = display(getattr(root, left))\n",
        "            label = getattr(root, type)\n",
        "            value = getattr(root, 'value', None)\n",
        "            if value is not None:\n",
        "                s = f'{label} {value}'\n",
        "            else:\n",
        "                s = label\n",
        "            u = len(s)\n",
        "            first_line = (x + 1) * ' ' + (n - x - 1) * '_' + s\n",
        "            second_line = x * ' ' + '/' + (n - x - 1 + u) * ' '\n",
        "            shifted_lines = [line + u * ' ' for line in lines]\n",
        "            return [first_line, second_line] + shifted_lines, n + u, p + 2, n + u // 2\n",
        "\n",
        "        if getattr(root, left) is None:\n",
        "            lines, n, p, x = display(getattr(root, right))\n",
        "            label = getattr(root, type)\n",
        "            value = getattr(root, 'value', None)\n",
        "            if value is not None:\n",
        "                s = f'{label} {value}'\n",
        "            else:\n",
        "                s = label\n",
        "            u = len(s)\n",
        "            first_line = s + x * '_' + (n - x) * ' '\n",
        "            second_line = (u + x) * ' ' + '\\\\' + (n - x - 1) * ' '\n",
        "            shifted_lines = [u * ' ' + line for line in lines]\n",
        "            return [first_line, second_line] + shifted_lines, n + u, p + 2, u // 2\n",
        "\n",
        "        left, n, p, x = display(getattr(root, left))\n",
        "        right, m, q, y = display(getattr(root, right))\n",
        "        label = getattr(root, type)\n",
        "        value = getattr(root, 'value', None)\n",
        "        if value is not None:\n",
        "            s = f'{label} {value}'\n",
        "        else:\n",
        "            s = label\n",
        "        u = len(s)\n",
        "        first_line = (x + 1) * ' ' + (n - x - 1) * '_' + s + y * '_' + (m - y) * ' '\n",
        "        second_line = x * ' ' + '/' + (n - x - 1 + u + y) * ' ' + '\\\\' + (m - y - 1) * ' '\n",
        "        if p < q:\n",
        "            left += [n * ' '] * (q - p)\n",
        "        elif q < p:\n",
        "            right += [m * ' '] * (p - q)\n",
        "        zipped_lines = zip(left, right)\n",
        "        lines = [first_line, second_line] + [a + u * ' ' + b for a, b in zipped_lines]\n",
        "        return lines, n + m + u, max(p, q) + 2, n + u // 2\n",
        "\n",
        "    lines, *_ = display(root, type, left, right)\n",
        "    for line in lines:\n",
        "        print(line)"
      ]
    },
    {
      "cell_type": "markdown",
      "metadata": {
        "id": "8b_m-m3DSBMv"
      },
      "source": [
        "LL parsers build the tree from the top-down, while LR parsers build the tree from the bottom-up.\n",
        "\n",
        "so this is a LR"
      ]
    },
    {
      "cell_type": "code",
      "execution_count": null,
      "metadata": {
        "colab": {
          "base_uri": "https://localhost:8080/"
        },
        "id": "Ou1MtzOmV7Ir",
        "outputId": "eb047b01-3aac-4da1-a480-22a98f83cdc9"
      },
      "outputs": [
        {
          "name": "stdout",
          "output_type": "stream",
          "text": [
            "Result: PLUS\n",
            "Parse Tree:\n",
            "                                      ________________PLUS__   \n",
            "                                     /                      \\  \n",
            "                            _______PLUS_______            NUM 1\n",
            "                           /                  \\                \n",
            "         ________________MINUS__          __MINUS__            \n",
            "        /                       \\        /         \\           \n",
            "    __PLUS_______             NUM 5    NUM 2     NUM 4         \n",
            "   /             \\                                             \n",
            "NUM 22       __PLUS___                                         \n",
            "            /         \\                                        \n",
            "          NUM 3    NUM 33                                      \n"
          ]
        }
      ],
      "source": [
        "# working 3/12\n",
        "\n",
        "e = ExpressionEvaluator()\n",
        "result = e.parse('22 + ( 3 + 33) - 5 + (2 - 4) + 1')\n",
        "\n",
        "print('Result:', result.type)\n",
        "print('Parse Tree:')\n",
        "print_tree(result)"
      ]
    },
    {
      "cell_type": "code",
      "execution_count": null,
      "metadata": {
        "colab": {
          "base_uri": "https://localhost:8080/"
        },
        "id": "Rbr8jPYZWWcr",
        "outputId": "037af9a8-728d-4ca0-e1e5-dcb794706f65"
      },
      "outputs": [
        {
          "name": "stdout",
          "output_type": "stream",
          "text": [
            "Result: <__main__.Node object at 0x7c29d20493c0>\n",
            "Parse Tree:\n",
            "                                                           ________________PLUS__   \n",
            "                                                          /                      \\  \n",
            "                                                 _______PLUS_______            NUM 1\n",
            "                                                /                  \\                \n",
            "         _____________________________________MINUS__          __MINUS__            \n",
            "        /                                            \\        /         \\           \n",
            "    __PLUS_______                                  NUM 5    NUM 2     NUM 4         \n",
            "   /             \\                                                                  \n",
            "NUM 22       __PLUS________                                                         \n",
            "            /              \\                                                        \n",
            "          NUM 3        __MINUS________                                              \n",
            "                      /               \\                                             \n",
            "                   NUM 44         __MINUS__                                         \n",
            "                                 /         \\                                        \n",
            "                              NUM 33     NUM 3                                      \n"
          ]
        }
      ],
      "source": [
        "e = ExpressionEvaluator()\n",
        "result = e.parse('22 + ( 3 + (44 - (33- 3))) - 5 + (2 - 4) + 1')\n",
        "\n",
        "print('Result:', result)\n",
        "print('Parse Tree:')\n",
        "print_tree(result)"
      ]
    },
    {
      "cell_type": "code",
      "execution_count": null,
      "metadata": {
        "colab": {
          "background_save": true,
          "base_uri": "https://localhost:8080/"
        },
        "id": "a-vLS5IXWhtt",
        "outputId": "2c1eb115-7d64-4789-ce2f-238167f4c7f9"
      },
      "outputs": [
        {
          "name": "stdout",
          "output_type": "stream",
          "text": [
            "Enter you expression (q to quit): Parse Tree:\n",
            "   __PLUS_______        \n",
            "  /             \\       \n",
            "NUM 1       __MINUS__   \n",
            "           /         \\  \n",
            "         NUM 2     NUM 3\n",
            "\n",
            "\n",
            "\n",
            "Enter you expression (q to quit): "
          ]
        }
      ],
      "source": [
        "e = ExpressionEvaluator()\n",
        "while True:\n",
        "  print(\"Enter you expression (q to quit): \",end=\"\")\n",
        "  expresion = input()\n",
        "  if expresion == \"q\":\n",
        "    break\n",
        "  result = e.parse(expresion)\n",
        "  print('Parse Tree:')\n",
        "  print_tree(result)\n",
        "  print(),print(),print()"
      ]
    },
    {
      "cell_type": "code",
      "execution_count": null,
      "metadata": {
        "id": "I_UZnRZkYex_"
      },
      "outputs": [],
      "source": []
    },
    {
      "cell_type": "code",
      "execution_count": null,
      "metadata": {
        "id": "Y95WNBGjb3p6"
      },
      "outputs": [],
      "source": []
    }
  ],
  "metadata": {
    "colab": {
      "provenance": []
    },
    "kernelspec": {
      "display_name": "Python 3",
      "name": "python3"
    },
    "language_info": {
      "name": "python"
    }
  },
  "nbformat": 4,
  "nbformat_minor": 0
}